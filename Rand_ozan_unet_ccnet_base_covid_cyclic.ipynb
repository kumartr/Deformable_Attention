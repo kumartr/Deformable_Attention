{
 "cells": [
  {
   "cell_type": "code",
   "execution_count": 1,
   "metadata": {},
   "outputs": [
    {
     "name": "stdout",
     "output_type": "stream",
     "text": [
      "1.7.0\n"
     ]
    }
   ],
   "source": [
    "import torch\n",
    "print(torch.__version__)\n",
    "import torch.nn as nn\n",
    "import torch.nn.functional as F\n",
    "import torch.optim as optim\n",
    "import scipy.io\n",
    "import matplotlib.pyplot as plt\n",
    "import numpy as np\n",
    "import nibabel as nib\n",
    "import os\n",
    "import Covid_Init\n",
    "from Covid_Init import *\n",
    "import torchvision\n",
    "from torchvision import datasets, models, transforms\n",
    "\n",
    "#import optimizerCyclic"
   ]
  },
  {
   "cell_type": "code",
   "execution_count": 2,
   "metadata": {},
   "outputs": [],
   "source": [
    "import math\n",
    "\n",
    "from utils_ozan import unetConv2, unetUp, unetUp_cca\n",
    "from networks_other_ozan import init_weights\n",
    "#import unet_nonlocal_2D \n",
    "#from unet_nonlocal_2D import *"
   ]
  },
  {
   "cell_type": "code",
   "execution_count": 3,
   "metadata": {},
   "outputs": [],
   "source": [
    "from torch.utils.data import Dataset, DataLoader"
   ]
  },
  {
   "cell_type": "code",
   "execution_count": 4,
   "metadata": {},
   "outputs": [],
   "source": [
    "class unet_2D(nn.Module):\n",
    "\n",
    "    def __init__(self, feature_scale=4, n_classes=3, is_deconv=True, in_channels=1, is_batchnorm=True):\n",
    "        super(unet_2D, self).__init__()\n",
    "        self.is_deconv = is_deconv\n",
    "        self.in_channels = in_channels\n",
    "        self.is_batchnorm = is_batchnorm\n",
    "        self.feature_scale = feature_scale\n",
    "        num_classes = 3\n",
    "\n",
    "        filters = [64, 128, 256, 512, 1024]\n",
    "        filters = [int(x / self.feature_scale) for x in filters]\n",
    "\n",
    "        # downsampling\n",
    "        self.conv1 = unetConv2(self.in_channels, filters[0], self.is_batchnorm)\n",
    "        self.maxpool1 = nn.MaxPool2d(kernel_size=2)\n",
    "\n",
    "        self.conv2 = unetConv2(filters[0], filters[1], self.is_batchnorm)\n",
    "        self.maxpool2 = nn.MaxPool2d(kernel_size=2)\n",
    "\n",
    "        self.conv3 = unetConv2(filters[1], filters[2], self.is_batchnorm)\n",
    "        self.maxpool3 = nn.MaxPool2d(kernel_size=2)\n",
    "\n",
    "        #self.conv4 = unetConv2(filters[2], filters[3], self.is_batchnorm)\n",
    "        #self.maxpool4 = nn.MaxPool2d(kernel_size=2)\n",
    "\n",
    "        #self.center = unetConv2(filters[3], filters[4], self.is_batchnorm)   \n",
    "        self.center = unetConv2(filters[2], filters[3], self.is_batchnorm)   # Changed\n",
    "        self.head = RCCAModule(filters[3], filters[3], num_classes)\n",
    "\n",
    "        # upsampling\n",
    "        #self.up_concat4 = unetUp(filters[4], filters[3], self.is_deconv)\n",
    "        self.up_concat3 = unetUp_cca(filters[3], filters[2], num_classes,self.is_deconv)\n",
    "        self.up_concat2 = unetUp(filters[2], filters[1], self.is_deconv)\n",
    "        self.up_concat1 = unetUp(filters[1], filters[0], self.is_deconv)\n",
    "\n",
    "        # final conv (without any concat)\n",
    "        self.final = nn.Conv2d(filters[0], n_classes, 1)\n",
    "\n",
    "        # initialise weights\n",
    "        for m in self.modules():\n",
    "            if isinstance(m, nn.Conv2d):\n",
    "                init_weights(m, init_type='kaiming')\n",
    "            elif isinstance(m, nn.BatchNorm2d):\n",
    "                init_weights(m, init_type='kaiming')\n",
    "\n",
    "\n",
    "    def forward(self, inputs):\n",
    "        conv1 = self.conv1(inputs)\n",
    "        maxpool1 = self.maxpool1(conv1)\n",
    "\n",
    "        conv2 = self.conv2(maxpool1)\n",
    "        maxpool2 = self.maxpool2(conv2)\n",
    "\n",
    "        conv3 = self.conv3(maxpool2)\n",
    "        maxpool3 = self.maxpool3(conv3)\n",
    "\n",
    "        #conv4 = self.conv4(maxpool3)\n",
    "        #maxpool4 = self.maxpool4(conv4)\n",
    "\n",
    "        #center = self.center(maxpool4)\n",
    "        center = self.center(maxpool3) #Changed\n",
    "        cca = self.head(center)\n",
    "        center_cat = torch.cat([cca, center], dim=1)\n",
    "        \n",
    "        #print('cca size',cca.shape)\n",
    "        #print('center cat size',center_cat.shape)\n",
    "        #up4 = self.up_concat4(conv4, center)\n",
    "        #up3 = self.up_concat3(conv3, up4)\n",
    "        \n",
    "        up3 = self.up_concat3(conv3, center, cca)\n",
    "        up2 = self.up_concat2(conv2, up3)\n",
    "        up1 = self.up_concat1(conv1, up2)\n",
    "\n",
    "        final = self.final(up1)\n",
    "\n",
    "        return final\n",
    "     \n",
    "    @staticmethod\n",
    "    def apply_argmax_softmax(pred):\n",
    "        log_p = F.softmax(pred, dim=1)\n",
    "\n",
    "        return log_p\n"
   ]
  },
  {
   "cell_type": "code",
   "execution_count": 5,
   "metadata": {},
   "outputs": [],
   "source": [
    "'''def init_weights(m):\n",
    "    if isinstance(m, nn.Linear) or isinstance(m, nn.Conv3d) or isinstance(m, nn.ConvTranspose2d) or isinstance(m, nn.Conv2d) or isinstance(m, nn.Conv1d):\n",
    "        nn.init.xavier_normal(m.weight)\n",
    "        if m.bias is not None:\n",
    "            nn.init.constant(m.bias, 0.0) '''\n",
    "\n",
    "def countParameters(model):\n",
    "    model_parameters = filter(lambda p: p.requires_grad, model.parameters())\n",
    "    params = sum([np.prod(p.size()) for p in model_parameters])\n",
    "    return params"
   ]
  },
  {
   "cell_type": "code",
   "execution_count": 6,
   "metadata": {},
   "outputs": [],
   "source": [
    "\n",
    "def dice_coeff(outputs, labels, max_label):\n",
    "    dice = torch.FloatTensor(max_label-1).fill_(0)\n",
    "    for label_num in range(1, max_label):\n",
    "        iflat = (outputs==label_num).view(-1).float()\n",
    "        tflat = (labels==label_num).view(-1).float()\n",
    "        intersection = torch.mean(iflat * tflat)\n",
    "        dice[label_num-1] = (2. * intersection) / (1e-8 + torch.mean(iflat) + torch.mean(tflat))\n",
    "    return dice\n",
    "\n",
    "def augmentAffine(img_in, seg_in, strength=0.05):\n",
    "    B,C,H,W = img_in.size()\n",
    "    affine_matrix = (torch.eye(2,3).unsqueeze(0) + torch.randn(B, 2, 3) * strength).to(img_in.device)\n",
    "\n",
    "    meshgrid = F.affine_grid(affine_matrix,torch.Size((B,1,H,W)))\n",
    "\n",
    "    img_out = F.grid_sample(img_in, meshgrid,padding_mode='border')\n",
    "    seg_out = F.grid_sample(seg_in.float().unsqueeze(1), meshgrid, mode='nearest').long().squeeze(1)\n",
    "\n",
    "    return img_out, seg_out\n",
    "\n"
   ]
  },
  {
   "cell_type": "code",
   "execution_count": 7,
   "metadata": {},
   "outputs": [
    {
     "name": "stdout",
     "output_type": "stream",
     "text": [
      "(99, 512, 512)\n",
      "(127, 512, 512)\n",
      "(42, 512, 512)\n",
      "(55, 512, 512)\n",
      "(73, 512, 512)\n",
      "(75, 512, 512)\n"
     ]
    }
   ],
   "source": [
    "data_dir = '/home/kumar/notebooks/CovidSeg/Data/rp_im/'\n",
    "mask_dir = '/home/kumar/notebooks/CovidSeg/Data/rp_msk/'\n",
    "\n",
    "def createFold(fnames_fold, data_dir=data_dir, mask_dir=mask_dir):    \n",
    "    i=0\n",
    "    j=0\n",
    "    for fname in fnames_fold:\n",
    "        #print(fname)\n",
    "        image0=nib.load(os.path.join(data_dir,fname)).get_fdata()\n",
    "        #print('shape image0', image0.shape)\n",
    "        gtlabel0 = nib.load(os.path.join(mask_dir,fname)).get_fdata()\n",
    "        gtlabel0[gtlabel0==3] = 0\n",
    "        if image0.shape[0] != 512 :\n",
    "            image0 = image0[59:571,59:571,:]\n",
    "            gtlabel0 = gtlabel0[59:571,59:571,:]\n",
    "        for idx in range(gtlabel0.shape[2]):\n",
    "            slice_mask = gtlabel0[:,:,idx]\n",
    "            if slice_mask[slice_mask==1].shape[0] > 0 or  slice_mask[slice_mask==2].shape[0] > 0 :\n",
    "                if i==0:\n",
    "                    image = image0[:,:,idx][..., np.newaxis]\n",
    "                    gtlabel = gtlabel0[:,:,idx][..., np.newaxis]\n",
    "                else :\n",
    "                    image=np.append(image,image0[:,:,idx][..., np.newaxis],axis=2 )\n",
    "                    gtlabel=np.append(gtlabel,gtlabel0[:,:,idx][..., np.newaxis],axis=2 )\n",
    "                i=i+1 \n",
    "    return np.einsum('ijk->kij', image), np.einsum('ijk->kij', gtlabel)\n",
    "\n",
    "fnames_fold0 = ['3.nii.gz']\n",
    "fnames_fold1 = ['1.nii.gz']\n",
    "fnames_fold2 = ['5.nii.gz', '6.nii.gz', '7.nii.gz']\n",
    "fnames_fold3 = ['9.nii.gz']\n",
    "fnames_fold4 = ['2.nii.gz' , '4.nii.gz', '8.nii.gz']\n",
    "\n",
    "\n",
    "images_tr_im, labels_tr_im = createFold(['tr_im.nii.gz'], data_dir, mask_dir)\n",
    "print(images_tr_im.shape)\n",
    "\n",
    "images_fold0, labels_fold0 = createFold(fnames_fold0)\n",
    "print(images_fold0.shape)\n",
    "\n",
    "images_fold1, labels_fold1 = createFold(fnames_fold1)\n",
    "print(images_fold1.shape)\n",
    "\n",
    "images_fold2, labels_fold2 = createFold(fnames_fold2)\n",
    "print(images_fold2.shape)\n",
    "\n",
    "images_fold3, labels_fold3 = createFold(fnames_fold3)\n",
    "print(images_fold3.shape)\n",
    "\n",
    "images_fold4, labels_fold4 = createFold(fnames_fold4)\n",
    "print(images_fold4.shape)\n",
    "\n",
    "\n",
    "images_tr_im_0 = images_tr_im[:20,:,:]\n",
    "images_tr_im_1 = images_tr_im[20:40,:,:]\n",
    "images_tr_im_2 = images_tr_im[40:60,:,:]\n",
    "images_tr_im_3 = images_tr_im[60:80,:,:]\n",
    "images_tr_im_4 = images_tr_im[80:,:,:]\n",
    "\n",
    "\n",
    "labels_tr_im_0 = labels_tr_im[:20,:,:]\n",
    "labels_tr_im_1 = labels_tr_im[20:40,:,:]\n",
    "labels_tr_im_2 = labels_tr_im[40:60,:,:]\n",
    "labels_tr_im_3 = labels_tr_im[60:80,:,:]\n",
    "labels_tr_im_4 = labels_tr_im[80:,:,:]\n",
    "\n",
    "\n",
    "images_fold0 = np.concatenate((images_fold0, images_tr_im_0),axis=0)\n",
    "images_fold1 = np.concatenate((images_fold1, images_tr_im_1),axis=0)\n",
    "images_fold2 = np.concatenate((images_fold2, images_tr_im_2),axis=0)\n",
    "images_fold3 = np.concatenate((images_fold3, images_tr_im_3),axis=0)\n",
    "images_fold4 = np.concatenate((images_fold4, images_tr_im_4),axis=0)\n",
    "\n",
    "labels_fold0 = np.concatenate((labels_fold0, labels_tr_im_0),axis=0)\n",
    "labels_fold1 = np.concatenate((labels_fold1, labels_tr_im_1),axis=0)\n",
    "labels_fold2 = np.concatenate((labels_fold2, labels_tr_im_2),axis=0)\n",
    "labels_fold3 = np.concatenate((labels_fold3, labels_tr_im_3),axis=0)\n",
    "labels_fold4 = np.concatenate((labels_fold4, labels_tr_im_4),axis=0)\n"
   ]
  },
  {
   "cell_type": "code",
   "execution_count": 8,
   "metadata": {},
   "outputs": [],
   "source": [
    "split_iter = 0"
   ]
  },
  {
   "cell_type": "code",
   "execution_count": 9,
   "metadata": {},
   "outputs": [
    {
     "name": "stdout",
     "output_type": "stream",
     "text": [
      "data for split 0\n",
      "images train (209, 512, 512) images valid (75, 512, 512)\n",
      "labels train (209, 512, 512) labels valid (75, 512, 512)\n"
     ]
    }
   ],
   "source": [
    "if split_iter==0:\n",
    "    X_train = np.concatenate((images_fold0, images_fold1), axis=0)\n",
    "    X_val = images_fold2\n",
    "    y_train = np.concatenate((labels_fold0, labels_fold1), axis=0)\n",
    "    y_val = labels_fold2\n",
    "    \n",
    "    \n",
    "if split_iter==1:\n",
    "    X_train = np.concatenate((images_fold0, images_fold2), axis=0)\n",
    "    X_val = images_fold1\n",
    "    y_train = np.concatenate((labels_fold0, labels_fold2), axis=0)\n",
    "    y_val = labels_fold1\n",
    "    \n",
    "    \n",
    "if split_iter==2:\n",
    "    X_train = np.concatenate((images_fold1, images_fold2), axis=0)\n",
    "    X_val = images_fold0\n",
    "    y_train = np.concatenate((labels_fold1, labels_fold2), axis=0)\n",
    "    y_val = labels_fold0\n",
    "    \n",
    "print('data for split', split_iter)\n",
    "print('images train', X_train.shape, 'images valid', X_val.shape)\n",
    "print('labels train', y_train.shape, 'labels valid', y_val.shape)"
   ]
  },
  {
   "cell_type": "code",
   "execution_count": 10,
   "metadata": {},
   "outputs": [
    {
     "name": "stdout",
     "output_type": "stream",
     "text": [
      "{'train': 209, 'valid': 75}\n"
     ]
    }
   ],
   "source": [
    "transformed_train_dataset = CovidDataset(X_train,y_train,\n",
    "                            transform=transforms.Compose([\n",
    "                                Rescale(256),\n",
    "                                ToTensor()\n",
    "                            ])) #Rescale(256),  #RandomCrop(224),\n",
    "\n",
    "transformed_valid_dataset = CovidDataset(X_val,y_val,\n",
    "                            transform=transforms.Compose([\n",
    "                                Rescale(256),\n",
    "                                ToTensor()\n",
    "                            ])) #Rescale(256),  #RandomCrop(224),\n",
    "\n",
    "\n",
    "image_datasets = {'train':transformed_train_dataset,\n",
    "                  'valid':transformed_valid_dataset }\n",
    "\n",
    "'''dataloaders = {'train': torch.utils.data.DataLoader(image_datasets['train'], batch_size=16,\n",
    "                                             shuffle=True, num_workers=4),\n",
    "               'valid': torch.utils.data.DataLoader(image_datasets['valid'], batch_size=16,\n",
    "                                             shuffle=True, num_workers=4)}'''\n",
    "\n",
    "dataloaders = {'train': torch.utils.data.DataLoader(image_datasets['train'], batch_size=8,\n",
    "                                             shuffle=True, num_workers=4),\n",
    "               'valid': torch.utils.data.DataLoader(image_datasets['valid'], batch_size=8,\n",
    "                                             shuffle=True, num_workers=4)}\n",
    "\n",
    "\n",
    "dataset_sizes = {x: len(image_datasets[x]) for x in ['train', 'valid']}\n",
    "#class_names = image_datasets['train'].classes\n",
    "print(dataset_sizes)"
   ]
  },
  {
   "cell_type": "code",
   "execution_count": 11,
   "metadata": {},
   "outputs": [],
   "source": [
    "#print(np.unique(sample['label']))"
   ]
  },
  {
   "cell_type": "code",
   "execution_count": 12,
   "metadata": {},
   "outputs": [],
   "source": [
    "######################################################################\n",
    "# Visualize a few images\n",
    "# ^^^^^^^^^^^^^^^^^^^^^^\n",
    "# Let's visualize a few training images so as to understand the data\n",
    "# augmentations.\n",
    "\n",
    "def imshow(inp, title=None):\n",
    "    \"\"\"Imshow for Tensor.\"\"\"\n",
    "    inp = inp.numpy().squeeze()\n",
    "    mean = np.array([0.485, 0.456])      #np.array([0.485, 0.456, 0.406])\n",
    "    std =  np.array([0.229, 0.224])      #np.array([0.229, 0.224, 0.225])\n",
    "    #inp = std * inp + mean\n",
    "    #inp = np.clip(inp, 0, 1)\n",
    "    plt.imshow(inp)\n",
    "    if title is not None:\n",
    "        plt.title(title)\n",
    "    plt.pause(0.001)  # pause a bit so that plots are updated"
   ]
  },
  {
   "cell_type": "code",
   "execution_count": 13,
   "metadata": {},
   "outputs": [
    {
     "name": "stdout",
     "output_type": "stream",
     "text": [
      "torch.Size([8, 1, 256, 256]) <class 'torch.Tensor'>\n",
      "torch.Size([8, 256, 256]) <class 'torch.Tensor'>\n"
     ]
    },
    {
     "data": {
      "image/png": "[encoded data removed]",
      "text/plain": [
       "<Figure size 432x288 with 1 Axes>"
      ]
     },
     "metadata": {
      "needs_background": "light"
     },
     "output_type": "display_data"
    },
    {
     "data": {
      "image/png": "[encoded data removed]",
      "text/plain": [
       "<Figure size 432x288 with 1 Axes>"
      ]
     },
     "metadata": {
      "needs_background": "light"
     },
     "output_type": "display_data"
    }
   ],
   "source": [
    "# Get a batch of training data\n",
    "batch = next(iter(dataloaders['train']))\n",
    "inputs = batch['image']\n",
    "label = batch['label']\n",
    "print(inputs.shape,type(inputs))\n",
    "print(label.shape,type(label))\n",
    "\n",
    "# Make a grid from batch\n",
    "#out = torchvision.utils.make_grid(inputs.repeat(1,1,1,3))\n",
    "#label = torchvision.utils.make_grid(label)\n",
    "imshow(inputs[1,:,:,:].float().cpu())\n",
    "#plt.show()\n",
    "imshow(label[1,:,:].float().cpu())\n",
    "#plt.show()"
   ]
  },
  {
   "cell_type": "code",
   "execution_count": 14,
   "metadata": {},
   "outputs": [
    {
     "name": "stdout",
     "output_type": "stream",
     "text": [
      "tensor([0., 1., 2.], dtype=torch.float64)\n"
     ]
    }
   ],
   "source": [
    "print(torch.unique(batch['label']))"
   ]
  },
  {
   "cell_type": "code",
   "execution_count": 15,
   "metadata": {},
   "outputs": [
    {
     "name": "stdout",
     "output_type": "stream",
     "text": [
      "torch.Size([209, 1, 256, 256])\n"
     ]
    }
   ],
   "source": [
    "dataloaders_tmp = {'train': torch.utils.data.DataLoader(image_datasets['train'], batch_size=len(image_datasets['train']),\n",
    "                                             shuffle=True, num_workers=4),\n",
    "               'valid': torch.utils.data.DataLoader(image_datasets['valid'], batch_size=len(image_datasets['valid']),\n",
    "                                             shuffle=True, num_workers=4)}\n",
    "batch_tmp = next(iter(dataloaders_tmp['train']))\n",
    "inputs_tmp = batch_tmp['image']\n",
    "label_tmp = batch_tmp['label']\n",
    "print(inputs_tmp.shape)"
   ]
  },
  {
   "cell_type": "code",
   "execution_count": 16,
   "metadata": {},
   "outputs": [
    {
     "name": "stdout",
     "output_type": "stream",
     "text": [
      "tensor([0.1650, 1.4443, 1.3908], device='cuda:0')\n",
      "inv sqrt class_weight tensor([0.1650, 1.4443, 1.3908], device='cuda:0')\n"
     ]
    }
   ],
   "source": [
    "class_weight = torch.sqrt(1.0/(torch.bincount(batch_tmp['label'].reshape(-1).long()).float()))\n",
    "class_weight = class_weight/class_weight.mean()\n",
    "#class_weight[0] = 0.35\n",
    "class_weight = class_weight.cuda()\n",
    "#class_weight[3]=0\n",
    "print(class_weight)\n",
    "print('inv sqrt class_weight',class_weight)\n",
    "criterion = nn.CrossEntropyLoss(class_weight)"
   ]
  },
  {
   "cell_type": "code",
   "execution_count": 17,
   "metadata": {},
   "outputs": [
    {
     "name": "stdout",
     "output_type": "stream",
     "text": [
      "tensor([0.1431, 0.8487, 2.0082], device='cuda:0')\n",
      "inv sqrt class_weight tensor([0.1431, 0.8487, 2.0082], device='cuda:0')\n"
     ]
    }
   ],
   "source": [
    "batch_tmp_valid = next(iter(dataloaders_tmp['valid']))\n",
    "class_weight_valid = torch.sqrt(1.0/(torch.bincount(batch_tmp_valid['label'].reshape(-1).long()).float()))\n",
    "class_weight_valid = class_weight_valid/class_weight_valid.mean()\n",
    "#class_weight[0] = 0.35\n",
    "class_weight_valid = class_weight_valid.cuda()\n",
    "#class_weight[3]=0\n",
    "print(class_weight_valid)\n",
    "print('inv sqrt class_weight',class_weight_valid)\n",
    "criterion_valid = nn.CrossEntropyLoss(class_weight_valid)\n"
   ]
  },
  {
   "cell_type": "code",
   "execution_count": 18,
   "metadata": {},
   "outputs": [],
   "source": [
    "# Experiment parameters\n",
    "lr_find_epochs = 2\n",
    "start_lr = 1e-7\n",
    "end_lr = 0.1"
   ]
  },
  {
   "cell_type": "code",
   "execution_count": 19,
   "metadata": {},
   "outputs": [
    {
     "name": "stderr",
     "output_type": "stream",
     "text": [
      "/mnt/2tbhdd/kumar/notebooks/CovidSeg/networks_other_ozan.py:42: UserWarning: nn.init.kaiming_normal is now deprecated in favor of nn.init.kaiming_normal_.\n",
      "  init.kaiming_normal(m.weight.data, a=0, mode='fan_in')\n",
      "/mnt/2tbhdd/kumar/notebooks/CovidSeg/networks_other_ozan.py:46: UserWarning: nn.init.normal is now deprecated in favor of nn.init.normal_.\n",
      "  init.normal(m.weight.data, 1.0, 0.02)\n",
      "/mnt/2tbhdd/kumar/notebooks/CovidSeg/networks_other_ozan.py:47: UserWarning: nn.init.constant is now deprecated in favor of nn.init.constant_.\n",
      "  init.constant(m.bias.data, 0.0)\n"
     ]
    }
   ],
   "source": [
    "# Set up the model, optimizer and loss function for the experiment\n",
    "model = unet_2D()\n",
    "\n",
    "#model.apply(init_weights)\n",
    "model.cuda()\n",
    "model.train()\n",
    "\n",
    "optimizer = torch.optim.Adam(list(model.parameters()),start_lr)          #SGD(model.parameters(), start_lr)\n",
    "#criterion = nn.CrossEntropyLoss()"
   ]
  },
  {
   "cell_type": "code",
   "execution_count": 20,
   "metadata": {},
   "outputs": [],
   "source": [
    "# LR function lambda\n",
    "lr_lambda = lambda x: math.exp(x * math.log(end_lr / start_lr) / (lr_find_epochs * len( dataloaders[\"train\"])))\n",
    "scheduler = LambdaLR_N(optimizer, lr_lambda)"
   ]
  },
  {
   "cell_type": "code",
   "execution_count": 21,
   "metadata": {},
   "outputs": [
    {
     "name": "stdout",
     "output_type": "stream",
     "text": [
      "epoch 0\n"
     ]
    },
    {
     "name": "stderr",
     "output_type": "stream",
     "text": [
      "/mnt/2tbhdd/kumar/miniconda3/envs/pydl/lib/python3.8/site-packages/torch/nn/functional.py:3448: UserWarning: Default grid_sample and affine_grid behavior has changed to align_corners=False since 1.3.0. Please specify align_corners=True if the old behavior is desired. See the documentation of grid_sample for details.\n",
      "  warnings.warn(\"Default grid_sample and affine_grid behavior has changed \"\n",
      "/mnt/2tbhdd/kumar/miniconda3/envs/pydl/lib/python3.8/site-packages/torch/nn/functional.py:3385: UserWarning: Default grid_sample and affine_grid behavior has changed to align_corners=False since 1.3.0. Please specify align_corners=True if the old behavior is desired. See the documentation of grid_sample for details.\n",
      "  warnings.warn(\"Default grid_sample and affine_grid behavior has changed \"\n"
     ]
    },
    {
     "name": "stdout",
     "output_type": "stream",
     "text": [
      "epoch 1\n"
     ]
    }
   ],
   "source": [
    "# Run the experiment \n",
    "\n",
    "lr_find_loss = []\n",
    "lr_find_lr = []\n",
    "\n",
    "iter = 0\n",
    "\n",
    "smoothing = 0.05\n",
    "\n",
    "for i in range(lr_find_epochs):\n",
    "  print(\"epoch {}\".format(i))\n",
    "  for i, batch in enumerate(dataloaders['train']):\n",
    "    \n",
    "    # Send to device\n",
    "    inputs = batch['image'].float().cuda()\n",
    "    label = batch['label'].long().cuda()\n",
    "        \n",
    "    inputs,label = augmentAffine(inputs,label,0.075)\n",
    "\n",
    "        \n",
    "    output = model(inputs)#imgs[idx[:,iter],:,:,:])\n",
    "         \n",
    "    # Training mode and zero gradients\n",
    "    model.train()\n",
    "    optimizer.zero_grad()\n",
    "    \n",
    "    # Get outputs to calc loss\n",
    "    outputs = model(inputs)\n",
    "    loss = criterion(outputs, label)\n",
    "\n",
    "    # Backward pass\n",
    "    loss.backward()\n",
    "    optimizer.step()\n",
    "\n",
    "    # Update LR\n",
    "    scheduler.step()\n",
    "    lr_step = optimizer.state_dict()[\"param_groups\"][0][\"lr\"]\n",
    "    lr_find_lr.append(lr_step)\n",
    "\n",
    "    # smooth the loss\n",
    "    if iter==0:\n",
    "      lr_find_loss.append(loss)\n",
    "    else:\n",
    "      loss = smoothing  * loss + (1 - smoothing) * lr_find_loss[-1]\n",
    "      lr_find_loss.append(loss)\n",
    "     \n",
    "    iter += 1"
   ]
  },
  {
   "cell_type": "code",
   "execution_count": 22,
   "metadata": {},
   "outputs": [
    {
     "data": {
      "image/png": "[encoded data removed]",
      "text/plain": [
       "<Figure size 432x288 with 1 Axes>"
      ]
     },
     "metadata": {
      "needs_background": "light"
     },
     "output_type": "display_data"
    }
   ],
   "source": [
    "plt.ylabel(\"loss\")\n",
    "plt.xlabel(\"learning rate\")\n",
    "plt.xscale(\"log\")\n",
    "plt.plot(lr_find_lr, lr_find_loss)\n",
    "plt.show()"
   ]
  },
  {
   "cell_type": "code",
   "execution_count": 23,
   "metadata": {},
   "outputs": [],
   "source": [
    "#trainset = next(iter(dataloaders_tmp['train']))\n",
    "#testset = next(iter(dataloaders_tmp['valid']))"
   ]
  },
  {
   "cell_type": "code",
   "execution_count": 24,
   "metadata": {},
   "outputs": [
    {
     "name": "stdout",
     "output_type": "stream",
     "text": [
      "847327\n"
     ]
    }
   ],
   "source": [
    "net = unet_2D()\n",
    "#net.apply(init_weights)\n",
    "net.cuda()\n",
    "net.train()\n",
    "total_epocs_var = 500 #500\n",
    "\n",
    "print(countParameters(net))\n",
    "\n",
    "optimizer = optim.Adam(list(net.parameters()),lr=0.002)\n",
    "\n",
    "# learning rate scheduler\n",
    "#scheduler = optim.lr_scheduler.ExponentialLR(optimizer, lr_decay)\n",
    "#scheduler =optimizerCyclic.OneCycleLR(optimizer, max_lr=0.005, steps_per_epoch=len(dataloaders['train']), epochs=total_epocs_var)\n",
    "#scheduler = torch.optim.lr_scheduler.OneCycleLR(optimizer, max_lr=0.0005, steps_per_epoch=len(dataloaders['train']), epochs=total_epocs_var)\n",
    "\n",
    "lr_max = 9*10e-3\n",
    "factor = 6\n",
    "end_lr = lr_max\n",
    "\n",
    "step_size = 4*len(dataloaders['train'])\n",
    "#clr = cyclical_lr(step_size, min_lr=end_lr/factor, max_lr=end_lr)\n",
    "#scheduler = torch.optim.lr_scheduler.LambdaLR(optimizer, [clr])\n",
    "#scheduler = torch.optim.lr_scheduler.OneCycleLR(optimizer, max_lr=0.005, steps_per_epoch=len(dataloaders['train']), epochs=total_epocs_var)"
   ]
  },
  {
   "cell_type": "code",
   "execution_count": null,
   "metadata": {},
   "outputs": [
    {
     "name": "stdout",
     "output_type": "stream",
     "text": [
      "Run Dice 2 All Labels Average tensor([0.6513, 0.2173])\n",
      "epoch 5 train loss tensor(0.2219) val loss tensor(0.2193) dice tensor(0.4218)\n",
      "run_dice[epoch] Average tensor(0.3619)\n",
      "Run Dice 2 All Labels Average tensor([0.5692, 0.2376])\n",
      "epoch 30 train loss tensor(0.2524) val loss tensor(0.2867) dice tensor(0.3717)\n",
      "run_dice[epoch] Average tensor(0.3904)\n",
      "Run Dice 2 All Labels Average tensor([0.5742, 0.2353])\n",
      "epoch 55 train loss tensor(0.1673) val loss tensor(0.3419) dice tensor(0.3244)\n",
      "run_dice[epoch] Average tensor(0.3976)\n",
      "Run Dice 2 All Labels Average tensor([0.5690, 0.2462])\n",
      "epoch 80 train loss tensor(0.1533) val loss tensor(0.2898) dice tensor(0.4281)\n",
      "run_dice[epoch] Average tensor(0.4026)\n",
      "Run Dice 2 All Labels Average tensor([0.5690, 0.2535])\n",
      "epoch 105 train loss tensor(0.1508) val loss tensor(0.2126) dice tensor(0.4525)\n",
      "run_dice[epoch] Average tensor(0.4073)\n",
      "Run Dice 2 All Labels Average tensor([0.5701, 0.2562])\n",
      "epoch 130 train loss tensor(0.1378) val loss tensor(0.2325) dice tensor(0.5028)\n",
      "run_dice[epoch] Average tensor(0.4100)\n",
      "Run Dice 2 All Labels Average tensor([0.5709, 0.2617])\n",
      "epoch 155 train loss tensor(0.1284) val loss tensor(0.2012) dice tensor(0.4463)\n",
      "run_dice[epoch] Average tensor(0.4136)\n",
      "Run Dice 2 All Labels Average tensor([0.5698, 0.2653])\n",
      "epoch 180 train loss tensor(0.1406) val loss tensor(0.2296) dice tensor(0.4687)\n",
      "run_dice[epoch] Average tensor(0.4153)\n",
      "Run Dice 2 All Labels Average tensor([0.5699, 0.2742])\n",
      "epoch 205 train loss tensor(0.1571) val loss tensor(0.2183) dice tensor(0.5317)\n",
      "run_dice[epoch] Average tensor(0.4200)\n",
      "Run Dice 2 All Labels Average tensor([0.5693, 0.2776])\n",
      "epoch 230 train loss tensor(0.1387) val loss tensor(0.2275) dice tensor(0.4401)\n",
      "run_dice[epoch] Average tensor(0.4216)\n",
      "Run Dice 2 All Labels Average tensor([0.5706, 0.2824])\n",
      "epoch 255 train loss tensor(0.1133) val loss tensor(0.2288) dice tensor(0.4622)\n",
      "run_dice[epoch] Average tensor(0.4249)\n"
     ]
    }
   ],
   "source": [
    "train_loss = torch.zeros(total_epocs_var)/0\n",
    "val_loss = torch.zeros(total_epocs_var)/0\n",
    "\n",
    "\n",
    "run_dice = []  #torch.zeros(500)/0\n",
    "run_dice2 = 0\n",
    "\n",
    "for epoch_i in range(total_epocs_var):\n",
    "    #idx = torch.randperm(9).view(3,3)\n",
    "    net.train()\n",
    "    train_loss[epoch_i] = 0.0\n",
    "    i=0\n",
    "    #dataset = trainset['image']\n",
    "    #labels = trainset['label']\n",
    "    \n",
    "    #data_len = dataset.size(0)\n",
    "    #idx_epoch = torch.randperm(data_len)[:data_len-data_len%batch_size].view(batch_size,-1)\n",
    "    \n",
    "\n",
    "    for i, batch in enumerate(dataloaders['train']):\n",
    "    #for iter in range(10):\n",
    "    #for iter in range(#idx_epoch.size(1)):\n",
    "        #idx = idx_epoch[:,iter]\n",
    "\n",
    "        optimizer.zero_grad()\n",
    "        #inputs = dataset[idx].float().cuda()\n",
    "        #label = labels[idx].long().cuda()\n",
    "        \n",
    "        inputs = batch['image'].float().cuda()\n",
    "        label = batch['label'].long().cuda()\n",
    "        \n",
    "        inputs,label = augmentAffine(inputs,label,0.075)\n",
    "\n",
    "        \n",
    "        output = net(inputs)#imgs[idx[:,iter],:,:,:])\n",
    "        \n",
    "        #print(inputs.shape)\n",
    "        #print(output.shape)\n",
    "        #print(label.shape)\n",
    "            \n",
    "        loss = criterion(output,label)#segs[idx[:,iter],:,:])\n",
    "        loss.backward()\n",
    "        \n",
    "        optimizer.step()\n",
    "        #scheduler.step()\n",
    "        \n",
    "        train_loss[epoch_i] += loss.item()\n",
    "        #print('train loss',train_loss[epoch])\n",
    "        i = i +1\n",
    "    \n",
    "    #print('i',i)\n",
    "    #print('train loss',train_loss[epoch])\n",
    "    train_loss[epoch_i] /= i\n",
    "    #print('train loss',train_loss[epoch])\n",
    "        \n",
    "    if(True):\n",
    "        net.eval()\n",
    "        with torch.no_grad():\n",
    "            val_loss[epoch_i] = 0.0\n",
    "            batch_dice = 0\n",
    "            batch_dice_mean = 0\n",
    "            i=0\n",
    "            #dataset = testset['image']\n",
    "            #labels = testset['label']\n",
    "            #data_len = dataset.size(0)\n",
    "            #idx_epoch = torch.randperm(data_len)[:data_len-data_len%batch_size].view(batch_size,-1)\n",
    "            \n",
    "            for i, batch in enumerate(dataloaders['valid']):\n",
    "            #for iter in range(idx_epoch.size(1)):\n",
    "                #idx = idx_epoch[:,iter]\n",
    "                \n",
    "                optimizer.zero_grad()\n",
    "                \n",
    "                #inputs = dataset[idx].float().cuda()\n",
    "                #label = labels[idx].long().cuda()\n",
    "                \n",
    "                inputs = batch['image'].cuda()\n",
    "                label = batch['label'].long().cuda()\n",
    "        \n",
    "                output = net(inputs.float())\n",
    "                loss = criterion_valid(output,label)\n",
    "                val_loss[epoch_i] += loss.item()\n",
    "                \n",
    "            \n",
    "                d1 = dice_coeff(output.argmax(1), label, 3)\n",
    "                \n",
    "                batch_dice += d1\n",
    "                #print('dl, batch dice',d1,batch_dice)\n",
    "                i = i+1\n",
    "                batch_dice_mean += d1.mean().cpu()\n",
    "                #print('batch dice, batch dice mean',batch_dice,batch_dice_mean)\n",
    "             \n",
    "            #print('batch dice, batch dice mean',batch_dice,batch_dice_mean)\n",
    "            val_loss[epoch_i]/=i\n",
    "            batch_dice/=i\n",
    "            batch_dice_mean/=i\n",
    "            #print('Average batch dice, batch dice mean',batch_dice,batch_dice_mean)\n",
    "            \n",
    "            run_dice2+=batch_dice\n",
    "            run_dice.append(batch_dice_mean)\n",
    "            #run_dice[epoch//2] = batch_dice_mean/i\n",
    "            \n",
    "        if(epoch_i%25==5):\n",
    "            print('Run Dice 2 All Labels Average',run_dice2/epoch_i)\n",
    "            print('epoch',epoch_i,'train loss',train_loss[epoch_i], 'val loss',val_loss[epoch_i],'dice',run_dice[epoch_i])\n",
    "            print('run_dice[epoch] Average',torch.tensor(run_dice).float().mean())\n",
    "            \n",
    "print('Run Dice 2 All Labels Average Final',run_dice2/total_epocs_var)"
   ]
  },
  {
   "cell_type": "code",
   "execution_count": null,
   "metadata": {},
   "outputs": [],
   "source": [
    "#print(run_dice)\n",
    "torch.save(net, './Oz_Unet_CC_Models/run1_split0_net_oz_unet_500ep_randbatch8')"
   ]
  },
  {
   "cell_type": "code",
   "execution_count": null,
   "metadata": {},
   "outputs": [],
   "source": [
    "print('Run Dice 2 All Labels Average',run_dice2/epoch_i)\n",
    "print('epoch',epoch_i,'train loss',train_loss[epoch_i], 'val loss',val_loss[epoch_i],'dice',run_dice[epoch_i])\n",
    "print('run_dice[epoch] Average',torch.tensor(run_dice).float().mean())"
   ]
  },
  {
   "cell_type": "code",
   "execution_count": null,
   "metadata": {},
   "outputs": [],
   "source": [
    "print(total_epocs_var)"
   ]
  },
  {
   "cell_type": "code",
   "execution_count": null,
   "metadata": {},
   "outputs": [],
   "source": [
    "epoc=range(total_epocs_var)\n",
    "plt.plot(epoc,train_loss.cpu().numpy(),label='train_loss')\n",
    "plt.plot(epoc,val_loss.cpu().numpy(),label='Val_Loss')\n",
    "plt.legend()\n",
    "plt.figure()\n",
    "plt.show()\n",
    "plt.plot(epoc,run_dice,label='Valid Dice')\n",
    "#plt.plot(epoc,val_l,label='Val_loss')\n",
    "plt.legend()\n",
    "plt.figure()\n",
    "plt.show()"
   ]
  },
  {
   "cell_type": "code",
   "execution_count": null,
   "metadata": {},
   "outputs": [],
   "source": [
    "print(np.average(run_dice[400:total_epocs_var]))"
   ]
  },
  {
   "cell_type": "code",
   "execution_count": null,
   "metadata": {},
   "outputs": [],
   "source": [
    "print(np.average(run_dice[300:400]))"
   ]
  },
  {
   "cell_type": "code",
   "execution_count": null,
   "metadata": {},
   "outputs": [],
   "source": [
    "'''net.eval()\n",
    "with torch.no_grad():\n",
    "    output_test = net(img_test)\n",
    "    d1 = dice_coeff(output_test.argmax(1), seg_test, 8)\n",
    "run_dice[epoch//25] = d1.mean().cpu()\n",
    "print('epoch',epoch,'loss',run_loss[epoch],'dice',d1.mean())\n",
    "\n",
    "plt.imshow(output_test.argmax(1).squeeze().data.cpu().numpy())\n",
    "plt.show()'''"
   ]
  },
  {
   "cell_type": "code",
   "execution_count": null,
   "metadata": {},
   "outputs": [],
   "source": [
    "#torch.save(net.eval().cpu().state_dict(),'run1_split2_net_unet_500ep_randbatch16_statedict.pth')"
   ]
  },
  {
   "cell_type": "code",
   "execution_count": null,
   "metadata": {},
   "outputs": [],
   "source": [
    "#torch.save(net.eval().cpu(),'run1_split2_net_unet_500ep_randbatch16_model.pth')"
   ]
  },
  {
   "cell_type": "code",
   "execution_count": null,
   "metadata": {},
   "outputs": [],
   "source": [
    "#print(img_test.size())"
   ]
  },
  {
   "cell_type": "code",
   "execution_count": null,
   "metadata": {},
   "outputs": [],
   "source": []
  },
  {
   "cell_type": "code",
   "execution_count": null,
   "metadata": {},
   "outputs": [],
   "source": []
  },
  {
   "cell_type": "code",
   "execution_count": null,
   "metadata": {},
   "outputs": [],
   "source": []
  }
 ],
 "metadata": {
  "kernelspec": {
   "display_name": "Python 3",
   "language": "python",
   "name": "python3"
  },
  "language_info": {
   "codemirror_mode": {
    "name": "ipython",
    "version": 3
   },
   "file_extension": ".py",
   "mimetype": "text/x-python",
   "name": "python",
   "nbconvert_exporter": "python",
   "pygments_lexer": "ipython3",
   "version": "3.8.5"
  }
 },
 "nbformat": 4,
 "nbformat_minor": 4
}
